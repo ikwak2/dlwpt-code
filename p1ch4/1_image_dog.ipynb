{
  "cells": [
    {
      "cell_type": "code",
      "execution_count": 2,
      "metadata": {
        "id": "oXYEeya5dqGG"
      },
      "outputs": [],
      "source": [
        "import numpy as np\n",
        "import torch\n",
        "torch.set_printoptions(edgeitems=2, threshold=50)"
      ]
    },
    {
      "cell_type": "code",
      "source": [
        "url = f\"https://raw.githubusercontent.com/ikwak2/dlwpt-code/master/data/p1ch2/bobby.jpg\"\n",
        "!wget --no-cache --backups=1 {url}"
      ],
      "metadata": {
        "id": "vMD2EafxeKU0",
        "outputId": "d7368fb7-0bfe-4e88-8676-6b3988f5ce64",
        "colab": {
          "base_uri": "https://localhost:8080/"
        }
      },
      "execution_count": 1,
      "outputs": [
        {
          "output_type": "stream",
          "name": "stdout",
          "text": [
            "--2022-11-17 07:23:55--  https://raw.githubusercontent.com/ikwak2/dlwpt-code/master/data/p1ch2/bobby.jpg\n",
            "Resolving raw.githubusercontent.com (raw.githubusercontent.com)... 185.199.108.133, 185.199.109.133, 185.199.110.133, ...\n",
            "Connecting to raw.githubusercontent.com (raw.githubusercontent.com)|185.199.108.133|:443... connected.\n",
            "HTTP request sent, awaiting response... 200 OK\n",
            "Length: 75801 (74K) [image/jpeg]\n",
            "Failed to rename bobby.jpg to bobby.jpg.1: (2) No such file or directory\n",
            "Saving to: ‘bobby.jpg’\n",
            "\n",
            "bobby.jpg           100%[===================>]  74.02K  --.-KB/s    in 0.01s   \n",
            "\n",
            "2022-11-17 07:23:56 (6.70 MB/s) - ‘bobby.jpg’ saved [75801/75801]\n",
            "\n"
          ]
        }
      ]
    },
    {
      "cell_type": "code",
      "execution_count": 3,
      "metadata": {
        "id": "k5z87HhtdqGJ",
        "outputId": "7520a5cd-7a95-45f9-ba43-ec1607dff002",
        "colab": {
          "base_uri": "https://localhost:8080/"
        }
      },
      "outputs": [
        {
          "output_type": "execute_result",
          "data": {
            "text/plain": [
              "(720, 1280, 3)"
            ]
          },
          "metadata": {},
          "execution_count": 3
        }
      ],
      "source": [
        "import imageio\n",
        "\n",
        "img_arr = imageio.imread('bobby.jpg')\n",
        "img_arr.shape"
      ]
    },
    {
      "cell_type": "code",
      "execution_count": 4,
      "metadata": {
        "id": "x1SjPUPkdqGK"
      },
      "outputs": [],
      "source": [
        "img = torch.from_numpy(img_arr)\n",
        "out = img.permute(2, 0, 1)"
      ]
    },
    {
      "cell_type": "code",
      "source": [
        "out.shape"
      ],
      "metadata": {
        "id": "Xb9hGbUDeX3T",
        "outputId": "817afd7e-b8f4-41cb-939a-86fa526f994b",
        "colab": {
          "base_uri": "https://localhost:8080/"
        }
      },
      "execution_count": 5,
      "outputs": [
        {
          "output_type": "execute_result",
          "data": {
            "text/plain": [
              "torch.Size([3, 720, 1280])"
            ]
          },
          "metadata": {},
          "execution_count": 5
        }
      ]
    },
    {
      "cell_type": "code",
      "execution_count": 12,
      "metadata": {
        "id": "KgBmigeBdqGK"
      },
      "outputs": [],
      "source": [
        "batch_size = 3\n",
        "batch = torch.zeros(batch_size, 3, 256, 256, dtype=torch.uint8)"
      ]
    },
    {
      "cell_type": "code",
      "source": [
        "url = f\"https://raw.githubusercontent.com/ikwak2/dlwpt-code/master/data/p1ch4/image-cats/cat1.png\"\n",
        "!wget --no-cache --backups=1 {url}"
      ],
      "metadata": {
        "id": "FPb_DozSefVC",
        "outputId": "2f388a2f-b9b4-4b4b-9ccc-c74e3a0fbf28",
        "colab": {
          "base_uri": "https://localhost:8080/"
        }
      },
      "execution_count": 6,
      "outputs": [
        {
          "output_type": "stream",
          "name": "stdout",
          "text": [
            "--2022-11-17 07:25:43--  https://raw.githubusercontent.com/ikwak2/dlwpt-code/master/data/p1ch4/image-cats/cat1.png\n",
            "Resolving raw.githubusercontent.com (raw.githubusercontent.com)... 185.199.108.133, 185.199.109.133, 185.199.110.133, ...\n",
            "Connecting to raw.githubusercontent.com (raw.githubusercontent.com)|185.199.108.133|:443... connected.\n",
            "HTTP request sent, awaiting response... 200 OK\n",
            "Length: 142028 (139K) [image/png]\n",
            "Failed to rename cat1.png to cat1.png.1: (2) No such file or directory\n",
            "Saving to: ‘cat1.png’\n",
            "\n",
            "cat1.png            100%[===================>] 138.70K  --.-KB/s    in 0.02s   \n",
            "\n",
            "2022-11-17 07:25:43 (8.51 MB/s) - ‘cat1.png’ saved [142028/142028]\n",
            "\n"
          ]
        }
      ]
    },
    {
      "cell_type": "code",
      "source": [
        "url = f\"https://raw.githubusercontent.com/ikwak2/dlwpt-code/master/data/p1ch4/image-cats/cat2.png\"\n",
        "!wget --no-cache --backups=1 {url}"
      ],
      "metadata": {
        "id": "cTPVCW9DesWE",
        "outputId": "26531982-f94e-4529-a0e0-ac573421ea11",
        "colab": {
          "base_uri": "https://localhost:8080/"
        }
      },
      "execution_count": 7,
      "outputs": [
        {
          "output_type": "stream",
          "name": "stdout",
          "text": [
            "--2022-11-17 07:25:57--  https://raw.githubusercontent.com/ikwak2/dlwpt-code/master/data/p1ch4/image-cats/cat2.png\n",
            "Resolving raw.githubusercontent.com (raw.githubusercontent.com)... 185.199.111.133, 185.199.110.133, 185.199.109.133, ...\n",
            "Connecting to raw.githubusercontent.com (raw.githubusercontent.com)|185.199.111.133|:443... connected.\n",
            "HTTP request sent, awaiting response... 200 OK\n",
            "Length: 144059 (141K) [image/png]\n",
            "Failed to rename cat2.png to cat2.png.1: (2) No such file or directory\n",
            "Saving to: ‘cat2.png’\n",
            "\n",
            "cat2.png            100%[===================>] 140.68K  --.-KB/s    in 0.03s   \n",
            "\n",
            "2022-11-17 07:25:57 (4.24 MB/s) - ‘cat2.png’ saved [144059/144059]\n",
            "\n"
          ]
        }
      ]
    },
    {
      "cell_type": "code",
      "source": [
        "url = f\"https://raw.githubusercontent.com/ikwak2/dlwpt-code/master/data/p1ch4/image-cats/cat3.png\"\n",
        "!wget --no-cache --backups=1 {url}"
      ],
      "metadata": {
        "id": "_DZNuHYuesM8",
        "outputId": "252f5211-0d48-44a6-e7db-44a8b4c09cb2",
        "colab": {
          "base_uri": "https://localhost:8080/"
        }
      },
      "execution_count": 8,
      "outputs": [
        {
          "output_type": "stream",
          "name": "stdout",
          "text": [
            "--2022-11-17 07:25:57--  https://raw.githubusercontent.com/ikwak2/dlwpt-code/master/data/p1ch4/image-cats/cat3.png\n",
            "Resolving raw.githubusercontent.com (raw.githubusercontent.com)... 185.199.108.133, 185.199.109.133, 185.199.111.133, ...\n",
            "Connecting to raw.githubusercontent.com (raw.githubusercontent.com)|185.199.108.133|:443... connected.\n",
            "HTTP request sent, awaiting response... 200 OK\n",
            "Length: 106468 (104K) [image/png]\n",
            "Failed to rename cat3.png to cat3.png.1: (2) No such file or directory\n",
            "Saving to: ‘cat3.png’\n",
            "\n",
            "\rcat3.png              0%[                    ]       0  --.-KB/s               \rcat3.png            100%[===================>] 103.97K  --.-KB/s    in 0.01s   \n",
            "\n",
            "2022-11-17 07:25:58 (6.91 MB/s) - ‘cat3.png’ saved [106468/106468]\n",
            "\n"
          ]
        }
      ]
    },
    {
      "cell_type": "code",
      "source": [
        "!mkdir img"
      ],
      "metadata": {
        "id": "v0MKWaGgevdE"
      },
      "execution_count": 9,
      "outputs": []
    },
    {
      "cell_type": "code",
      "source": [
        "!mv cat* img/"
      ],
      "metadata": {
        "id": "FIFOI50DeyKs"
      },
      "execution_count": 10,
      "outputs": []
    },
    {
      "cell_type": "code",
      "execution_count": 13,
      "metadata": {
        "scrolled": true,
        "id": "g3zEtaiVdqGK"
      },
      "outputs": [],
      "source": [
        "import os\n",
        "\n",
        "data_dir = 'img/'\n",
        "filenames = [name for name in os.listdir(data_dir)\n",
        "             if os.path.splitext(name)[-1] == '.png']\n",
        "for i, filename in enumerate(filenames):\n",
        "    img_arr = imageio.imread(os.path.join(data_dir, filename))\n",
        "    img_t = torch.from_numpy(img_arr)\n",
        "    img_t = img_t.permute(2, 0, 1)\n",
        "    img_t = img_t[:3] # <1>\n",
        "    batch[i] = img_t"
      ]
    },
    {
      "cell_type": "code",
      "source": [
        "img_arr.shape"
      ],
      "metadata": {
        "id": "f9dbAfGFe9tT",
        "outputId": "a67ca860-dd51-4098-804b-2ce49009c761",
        "colab": {
          "base_uri": "https://localhost:8080/"
        }
      },
      "execution_count": 15,
      "outputs": [
        {
          "output_type": "execute_result",
          "data": {
            "text/plain": [
              "(256, 256, 3)"
            ]
          },
          "metadata": {},
          "execution_count": 15
        }
      ]
    },
    {
      "cell_type": "code",
      "source": [
        "img_arr"
      ],
      "metadata": {
        "id": "AGVEcG1ffLS7",
        "outputId": "967b68f0-38fa-4d56-d43c-3acf97cb2fb0",
        "colab": {
          "base_uri": "https://localhost:8080/"
        }
      },
      "execution_count": 16,
      "outputs": [
        {
          "output_type": "execute_result",
          "data": {
            "text/plain": [
              "Array([[[202, 151,  68],\n",
              "        [193, 139,  53],\n",
              "        [190, 133,  44],\n",
              "        ...,\n",
              "        [ 13,   9,   6],\n",
              "        [ 13,   9,   6],\n",
              "        [ 12,   8,   5]],\n",
              "\n",
              "       [[199, 151,  67],\n",
              "        [192, 140,  54],\n",
              "        [189, 134,  44],\n",
              "        ...,\n",
              "        [ 14,  11,   6],\n",
              "        [ 14,  11,   6],\n",
              "        [ 14,  11,   6]],\n",
              "\n",
              "       [[198, 152,  67],\n",
              "        [193, 143,  56],\n",
              "        [188, 134,  44],\n",
              "        ...,\n",
              "        [ 12,  11,   6],\n",
              "        [ 12,  11,   6],\n",
              "        [ 12,  11,   6]],\n",
              "\n",
              "       ...,\n",
              "\n",
              "       [[ 93,  57,  31],\n",
              "        [ 82,  45,  19],\n",
              "        [ 76,  39,  12],\n",
              "        ...,\n",
              "        [ 36,  26,  17],\n",
              "        [ 36,  26,  17],\n",
              "        [ 36,  26,  17]],\n",
              "\n",
              "       [[ 75,  33,  11],\n",
              "        [ 68,  26,   2],\n",
              "        [101,  59,  35],\n",
              "        ...,\n",
              "        [ 36,  26,  17],\n",
              "        [ 36,  26,  17],\n",
              "        [ 37,  27,  18]],\n",
              "\n",
              "       [[ 85,  40,  19],\n",
              "        [103,  58,  37],\n",
              "        [ 90,  45,  22],\n",
              "        ...,\n",
              "        [ 36,  26,  17],\n",
              "        [ 37,  27,  18],\n",
              "        [ 38,  28,  19]]], dtype=uint8)"
            ]
          },
          "metadata": {},
          "execution_count": 16
        }
      ]
    },
    {
      "cell_type": "code",
      "execution_count": 17,
      "metadata": {
        "id": "L3hCZ_redqGL"
      },
      "outputs": [],
      "source": [
        "batch = batch.float()\n",
        "batch /= 255.0"
      ]
    },
    {
      "cell_type": "code",
      "execution_count": 18,
      "metadata": {
        "id": "BetB2Z1bdqGL"
      },
      "outputs": [],
      "source": [
        "n_channels = batch.shape[1]\n",
        "for c in range(n_channels):\n",
        "    mean = torch.mean(batch[:, c])\n",
        "    std = torch.std(batch[:, c])\n",
        "    batch[:, c] = (batch[:, c] - mean) / std"
      ]
    },
    {
      "cell_type": "code",
      "source": [],
      "metadata": {
        "id": "lax05fuLfVkm"
      },
      "execution_count": null,
      "outputs": []
    }
  ],
  "metadata": {
    "kernelspec": {
      "display_name": "Python 3",
      "language": "python",
      "name": "python3"
    },
    "language_info": {
      "codemirror_mode": {
        "name": "ipython",
        "version": 3
      },
      "file_extension": ".py",
      "mimetype": "text/x-python",
      "name": "python",
      "nbconvert_exporter": "python",
      "pygments_lexer": "ipython3",
      "version": "3.7.6"
    },
    "colab": {
      "provenance": []
    }
  },
  "nbformat": 4,
  "nbformat_minor": 0
}